{
  "nbformat": 4,
  "nbformat_minor": 0,
  "metadata": {
    "colab": {
      "name": "Jomboy-Analysis.ipynb",
      "provenance": []
    },
    "kernelspec": {
      "name": "python3",
      "display_name": "Python 3"
    },
    "language_info": {
      "name": "python"
    }
  },
  "cells": [
    {
      "cell_type": "markdown",
      "metadata": {
        "id": "a_VpDAiDM5Lj"
      },
      "source": [
        "##Jomboy Media Twitter Analysis"
      ]
    },
    {
      "cell_type": "markdown",
      "metadata": {
        "id": "IIDDcOLpM9-b"
      },
      "source": [
        "For my analysis I will:\n",
        "*   Use Twitter to see how much of their main account’s media is related to baseball.\n",
        "*   See  how much is related to other sports (football, basketball, hockey).\n",
        "*   Use data visualizations to better understand the results.\n",
        "*   Conduct sentiment analysis for each sport and compare the results.\n",
        "\n",
        "\n",
        "\n",
        "\n",
        "\n",
        "\n"
      ]
    },
    {
      "cell_type": "markdown",
      "metadata": {
        "id": "D4Jng-qiN5Ov"
      },
      "source": [
        "*Imports*"
      ]
    },
    {
      "cell_type": "code",
      "metadata": {
        "id": "MGt9hgj-N4x1"
      },
      "source": [
        "import pandas as pd\n",
        "import json\n",
        "import tweepy\n",
        "from tweepy.api import API"
      ],
      "execution_count": null,
      "outputs": []
    },
    {
      "cell_type": "markdown",
      "metadata": {
        "id": "XAvKR7n6OXDE"
      },
      "source": [
        "*Twitter API*"
      ]
    },
    {
      "cell_type": "code",
      "metadata": {
        "id": "OM7O4mypOc-9"
      },
      "source": [
        "access_token = \"24816620-I85JgN7tSuv1SgIXGHzivECgS5PBg4Smc2TyPxdLK\"\n",
        "access_token_secret = \"YmeOrculf2RwJ711CwB9PlKhvG7cT8B9eCvblRuTkPQBp\"\n",
        "API_key = '5cSivldEXb2MbHhPD4vxc1tYQ'\n",
        "API_secret = 'f7m267xOpEC2b9oQYbCW0mfhGCdcmHt9hQXYSZUAAqiSflBfUc'"
      ],
      "execution_count": null,
      "outputs": []
    },
    {
      "cell_type": "code",
      "metadata": {
        "id": "6fuS07dEOlrR"
      },
      "source": [
        "auth = tweepy.OAuthHandler(API_key, API_secret)\n",
        "auth.set_access_token(access_token,access_token_secret)\n",
        "api = tweepy.API(auth)"
      ],
      "execution_count": null,
      "outputs": []
    },
    {
      "cell_type": "markdown",
      "metadata": {
        "id": "7KAPyd4pNnyb"
      },
      "source": [
        "#Baseball Content"
      ]
    },
    {
      "cell_type": "code",
      "metadata": {
        "id": "0uLqcamUN1GM"
      },
      "source": [
        ""
      ],
      "execution_count": null,
      "outputs": []
    },
    {
      "cell_type": "markdown",
      "metadata": {
        "id": "r88TsV1HNqAc"
      },
      "source": [
        "#Other Sports Content"
      ]
    },
    {
      "cell_type": "code",
      "metadata": {
        "id": "M8tTjH3EN0pZ"
      },
      "source": [
        ""
      ],
      "execution_count": null,
      "outputs": []
    },
    {
      "cell_type": "markdown",
      "metadata": {
        "id": "mhaTh8wPNtbU"
      },
      "source": [
        "#Visualizations"
      ]
    },
    {
      "cell_type": "code",
      "metadata": {
        "id": "wp8RIW-2N1fD"
      },
      "source": [
        ""
      ],
      "execution_count": null,
      "outputs": []
    },
    {
      "cell_type": "markdown",
      "metadata": {
        "id": "GmXIc4WNNvnc"
      },
      "source": [
        "#Sentiment Analysis"
      ]
    },
    {
      "cell_type": "code",
      "metadata": {
        "id": "k6u3gky8N100"
      },
      "source": [
        ""
      ],
      "execution_count": null,
      "outputs": []
    }
  ]
}